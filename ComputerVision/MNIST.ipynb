{
 "cells": [
  {
   "cell_type": "code",
   "execution_count": 1,
   "id": "initial_id",
   "metadata": {
    "collapsed": true,
    "ExecuteTime": {
     "end_time": "2023-12-26T13:35:23.865901100Z",
     "start_time": "2023-12-26T13:35:23.831902400Z"
    }
   },
   "outputs": [],
   "source": [
    "import numpy as np\n",
    "import pandas as pd\n",
    "import matplotlib.pyplot as plt\n",
    "import seaborn as sns"
   ]
  },
  {
   "cell_type": "code",
   "execution_count": 2,
   "outputs": [],
   "source": [
    "import torch\n",
    "from torch import nn"
   ],
   "metadata": {
    "collapsed": false,
    "ExecuteTime": {
     "end_time": "2023-12-26T13:35:30.677025700Z",
     "start_time": "2023-12-26T13:35:23.848889Z"
    }
   },
   "id": "80efe713a3c3ea7e"
  },
  {
   "cell_type": "code",
   "execution_count": 3,
   "outputs": [],
   "source": [
    "import torchvision\n",
    "from torchvision import datasets\n",
    "from torchvision import transforms\n",
    "from torchvision.transforms import ToTensor"
   ],
   "metadata": {
    "collapsed": false,
    "ExecuteTime": {
     "end_time": "2023-12-26T13:35:52.945415500Z",
     "start_time": "2023-12-26T13:35:51.953667300Z"
    }
   },
   "id": "d7e886542ce9d8dc"
  },
  {
   "cell_type": "code",
   "execution_count": 4,
   "outputs": [],
   "source": [
    "mnist_train = datasets.FashionMNIST(\n",
    "    root='data',\n",
    "    transform=ToTensor(),\n",
    "    target_transform=None,\n",
    "    train=True)\n",
    "\n",
    "mnist_test = datasets.FashionMNIST(\n",
    "    root='data',\n",
    "    transform=ToTensor(),\n",
    "    target_transform=None,\n",
    "    train=False)"
   ],
   "metadata": {
    "collapsed": false,
    "ExecuteTime": {
     "end_time": "2023-12-26T13:37:06.341029500Z",
     "start_time": "2023-12-26T13:37:06.209039600Z"
    }
   },
   "id": "5c5717e08925bda7"
  },
  {
   "cell_type": "code",
   "execution_count": 6,
   "outputs": [
    {
     "data": {
      "text/plain": "(60000, 10000)"
     },
     "execution_count": 6,
     "metadata": {},
     "output_type": "execute_result"
    }
   ],
   "source": [
    "len(mnist_train), len(mnist_test)"
   ],
   "metadata": {
    "collapsed": false,
    "ExecuteTime": {
     "end_time": "2023-12-26T13:37:29.044451200Z",
     "start_time": "2023-12-26T13:37:29.028451300Z"
    }
   },
   "id": "4695d14d6a9eb158"
  },
  {
   "cell_type": "code",
   "execution_count": 8,
   "outputs": [],
   "source": [
    "class_names = mnist_train.classes"
   ],
   "metadata": {
    "collapsed": false,
    "ExecuteTime": {
     "end_time": "2023-12-26T13:38:32.236457Z",
     "start_time": "2023-12-26T13:38:32.200452800Z"
    }
   },
   "id": "166d90946fb3fd15"
  },
  {
   "cell_type": "code",
   "execution_count": 13,
   "outputs": [
    {
     "data": {
      "text/plain": "<Figure size 640x480 with 1 Axes>",
      "image/png": "[encoded data removed]"
     },
     "metadata": {},
     "output_type": "display_data"
    },
    {
     "name": "stdout",
     "output_type": "stream",
     "text": [
      "The shape of the image: torch.Size([1, 28, 28])\n"
     ]
    }
   ],
   "source": [
    "image, label = mnist_train[0]\n",
    "plt.imshow(image.squeeze(), cmap='gray')\n",
    "plt.title(f\"{class_names[label]}\")\n",
    "plt.show()\n",
    "print(f\"The shape of the image: {image.shape}\")"
   ],
   "metadata": {
    "collapsed": false,
    "ExecuteTime": {
     "end_time": "2023-12-26T13:39:11.450555200Z",
     "start_time": "2023-12-26T13:39:11.226875700Z"
    }
   },
   "id": "c6993a75263b8325"
  },
  {
   "cell_type": "code",
   "execution_count": 14,
   "outputs": [],
   "source": [
    "from torch.utils.data import DataLoader\n",
    "train_dataloader = DataLoader(\n",
    "    dataset=mnist_train,\n",
    "    pin_memory=True,\n",
    "    shuffle=True,\n",
    "    batch_size=32)\n",
    "\n",
    "test_dataloader = DataLoader(\n",
    "    dataset=mnist_test,\n",
    "    pin_memory=True,\n",
    "    shuffle=False,\n",
    "    batch_size=32)"
   ],
   "metadata": {
    "collapsed": false,
    "ExecuteTime": {
     "end_time": "2023-12-26T13:41:05.137836300Z",
     "start_time": "2023-12-26T13:41:05.098839400Z"
    }
   },
   "id": "e6da777c8f5b5cff"
  },
  {
   "cell_type": "code",
   "execution_count": 19,
   "outputs": [],
   "source": [
    "device = 'cuda' if torch.cuda.is_available() else 'cpu'"
   ],
   "metadata": {
    "collapsed": false,
    "ExecuteTime": {
     "end_time": "2023-12-26T13:41:41.415135300Z",
     "start_time": "2023-12-26T13:41:41.313995400Z"
    }
   },
   "id": "79ff11bd6540ddc6"
  },
  {
   "cell_type": "code",
   "execution_count": 21,
   "outputs": [],
   "source": [
    "class FashionMnistModel_V1(nn.Module):\n",
    "    def __init__(self, input_shape:int, hidden_shape:int, output_shape:int):\n",
    "        super().__init__()\n",
    "        self.conv_block_1 = nn.Sequential(\n",
    "            nn.Conv2d(in_channels=input_shape, out_channels=hidden_shape,\n",
    "                      kernel_size=3, padding=1, stride=1),\n",
    "            nn.ReLU(),\n",
    "            nn.Conv2d(in_channels=hidden_shape, out_channels=hidden_shape,\n",
    "                      kernel_size=3, padding=1, stride=1),\n",
    "            nn.ReLU(),\n",
    "            nn.MaxPool2d(kernel_size=2)\n",
    "        )\n",
    "        self.conv_block_2 = nn.Sequential(\n",
    "            nn.Conv2d(in_channels=hidden_shape, out_channels=hidden_shape,\n",
    "                      kernel_size=3, padding=1, stride=1),\n",
    "            nn.ReLU(),\n",
    "            nn.Conv2d(in_channels=hidden_shape, out_channels=hidden_shape,\n",
    "                      kernel_size=3, padding=1, stride=1),\n",
    "            nn.ReLU(),\n",
    "            nn.MaxPool2d(kernel_size=2)\n",
    "        )\n",
    "        self.flatten_layer = nn.Sequential(\n",
    "            nn.Flatten()\n",
    "        )\n",
    "        self.final_layer = nn.Sequential(\n",
    "            nn.Linear(in_features=hidden_shape*7*7, out_features=output_shape),\n",
    "            nn.Softmax(dim=1)\n",
    "        )\n",
    "    \n",
    "    def forward(self, x:torch.Tensor) -> torch.Tensor:\n",
    "        x = self.conv_block_1(x)\n",
    "        x = self.conv_block_2(x)\n",
    "        x = self.flatten_layer(x)\n",
    "        x = self.final_layer(x)\n",
    "        return x"
   ],
   "metadata": {
    "collapsed": false,
    "ExecuteTime": {
     "end_time": "2023-12-26T13:48:28.626698900Z",
     "start_time": "2023-12-26T13:48:28.615702700Z"
    }
   },
   "id": "5cbb45afda5f6d85"
  },
  {
   "cell_type": "code",
   "execution_count": 22,
   "outputs": [],
   "source": [
    "mnist_model = FashionMnistModel_V1(input_shape=1, hidden_shape=32, output_shape=len(class_names)).to(device)\n",
    "loss_fn = nn.CrossEntropyLoss()\n",
    "optimizer = torch.optim.SGD(params=mnist_model.parameters(),\n",
    "                            lr=0.01)"
   ],
   "metadata": {
    "collapsed": false,
    "ExecuteTime": {
     "end_time": "2023-12-26T13:49:50.859826400Z",
     "start_time": "2023-12-26T13:49:50.649607500Z"
    }
   },
   "id": "8afdcbdf5abe143f"
  },
  {
   "cell_type": "code",
   "execution_count": 23,
   "outputs": [],
   "source": [
    "from tqdm.auto import tqdm"
   ],
   "metadata": {
    "collapsed": false,
    "ExecuteTime": {
     "end_time": "2023-12-26T13:50:56.971299500Z",
     "start_time": "2023-12-26T13:50:56.902266700Z"
    }
   },
   "id": "ae74da86c5de108e"
  },
  {
   "cell_type": "code",
   "execution_count": 24,
   "outputs": [],
   "source": [
    "def accuracy_fn(y_true, y_pred):\n",
    "    correct = torch.eq(y_true, y_pred).sum().item()\n",
    "    accuracy = (correct/len(y_pred)) * 100\n",
    "    return accuracy"
   ],
   "metadata": {
    "collapsed": false,
    "ExecuteTime": {
     "end_time": "2023-12-26T13:53:15.024460400Z",
     "start_time": "2023-12-26T13:53:15.005462100Z"
    }
   },
   "id": "115d72dd1a45615"
  },
  {
   "cell_type": "code",
   "execution_count": 31,
   "outputs": [],
   "source": [
    "epochs = 3\n",
    "\n",
    "def train_step(data_loader: DataLoader,\n",
    "               model: nn.Module,\n",
    "               loss_fn: nn.Module,\n",
    "               accuracy_fn,\n",
    "               device):\n",
    "    train_loss, train_accuracy = 0, 0\n",
    "    model.train()\n",
    "    for batch_train, (X_train, y_train) in enumerate(data_loader):\n",
    "        X_train, y_train = X_train.to(device), y_train.to(device)\n",
    "        y_pred_train = model(X_train)\n",
    "        loss = loss_fn(y_pred_train, y_train)\n",
    "        train_loss += loss\n",
    "        train_accuracy = accuracy_fn(y_true=y_train, y_pred=y_pred_train.argmax(1))\n",
    "        optimizer.zero_grad()\n",
    "        loss.backward()\n",
    "        optimizer.step()\n",
    "    train_loss /= len(train_dataloader)\n",
    "    train_accuracy /= len(train_dataloader)\n",
    "    \n",
    "    print(f\"Training loss is {train_loss:.4f}, Training accuracy is {train_accuracy:.4f}\")"
   ],
   "metadata": {
    "collapsed": false,
    "ExecuteTime": {
     "end_time": "2023-12-26T14:10:54.905340400Z",
     "start_time": "2023-12-26T14:10:54.864362900Z"
    }
   },
   "id": "23bf675d4cae2e41"
  },
  {
   "cell_type": "code",
   "execution_count": 33,
   "outputs": [],
   "source": [
    "def test_step(data_loader: DataLoader,\n",
    "               model: nn.Module,\n",
    "               loss_fn: nn.Module,\n",
    "               accuracy_fn,\n",
    "               device):\n",
    "    test_loss, test_accuracy = 0, 0\n",
    "    model.eval()\n",
    "    with torch.inference_mode():\n",
    "        for batch_test, (X_test, y_test) in enumerate(data_loader):\n",
    "            X_test, y_test = X_test.to(device), y_test.to(device)\n",
    "            y_pred_test = model(X_test)\n",
    "            test_loss += loss_fn(y_pred_test, y_test)\n",
    "            test_accuracy += accuracy_fn(y_true=y_test, y_pred=y_pred_test.argmax(1))\n",
    "    \n",
    "        test_loss /= len(test_dataloader)\n",
    "        test_accuracy /= len(test_dataloader)\n",
    "    \n",
    "    print(f\"Testing loss is {test_loss}, Testing accuracy is {test_accuracy}\")"
   ],
   "metadata": {
    "collapsed": false,
    "ExecuteTime": {
     "end_time": "2023-12-26T14:12:25.052900100Z",
     "start_time": "2023-12-26T14:12:24.976863800Z"
    }
   },
   "id": "57ac7c38c28b34f3"
  },
  {
   "cell_type": "code",
   "execution_count": 35,
   "outputs": [
    {
     "data": {
      "text/plain": "  0%|          | 0/3 [00:00<?, ?it/s]",
      "application/vnd.jupyter.widget-view+json": {
       "version_major": 2,
       "version_minor": 0,
       "model_id": "c7ce3e0ec06345a9b9e9ebc67113af14"
      }
     },
     "metadata": {},
     "output_type": "display_data"
    },
    {
     "name": "stdout",
     "output_type": "stream",
     "text": [
      "Training loss is 1.7544, Training accuracy is 0.0417\n",
      "Testing loss is 1.756425380706787, Testing accuracy is 70.54712460063898\n",
      "Training loss is 1.7509, Training accuracy is 0.0367\n",
      "Testing loss is 1.7591801881790161, Testing accuracy is 70.06789137380191\n",
      "Training loss is 1.7492, Training accuracy is 0.0333\n",
      "Testing loss is 1.7553880214691162, Testing accuracy is 70.59704472843451\n",
      "The model training takes 58.6397 seconds.\n"
     ]
    }
   ],
   "source": [
    "from timeit import default_timer as timer\n",
    "\n",
    "epochs = 3\n",
    "\n",
    "INITIAL_TIME = timer()\n",
    "\n",
    "for epoch in tqdm(range(epochs)):\n",
    "    \n",
    "    train_step(data_loader=train_dataloader,\n",
    "               model=mnist_model,\n",
    "               loss_fn=loss_fn,\n",
    "               accuracy_fn=accuracy_fn,\n",
    "               device=device)\n",
    "    \n",
    "    test_step(data_loader=test_dataloader,\n",
    "               model=mnist_model,\n",
    "               loss_fn=loss_fn,\n",
    "               accuracy_fn=accuracy_fn,\n",
    "               device=device)\n",
    "    \n",
    "ENDING_TIME = timer()\n",
    "TOTAL_TIME = ENDING_TIME - INITIAL_TIME\n",
    "print(f\"The model training takes {TOTAL_TIME:.4f} seconds.\")"
   ],
   "metadata": {
    "collapsed": false,
    "ExecuteTime": {
     "end_time": "2023-12-26T14:17:16.101209500Z",
     "start_time": "2023-12-26T14:16:17.443897900Z"
    }
   },
   "id": "6b6516710594f9c8"
  },
  {
   "cell_type": "code",
   "execution_count": 37,
   "outputs": [],
   "source": [
    "class FashionMnistModel_V2(nn.Module):\n",
    "    def __init__(self,\n",
    "                 input_layer: int,\n",
    "                 hidden_layers: int,\n",
    "                 output_layer: int):\n",
    "        super().__init__()\n",
    "        self.layer_stack = nn.Sequential(\n",
    "            nn.Flatten(),\n",
    "            nn.Linear(in_features=input_layer, out_features=hidden_layers),\n",
    "            nn.Linear(in_features=hidden_layers, out_features=output_layer)\n",
    "        )\n",
    "        \n",
    "    def forward(self, x):\n",
    "        return self.layer_stack(x)"
   ],
   "metadata": {
    "collapsed": false,
    "ExecuteTime": {
     "end_time": "2023-12-26T14:17:39.890917500Z",
     "start_time": "2023-12-26T14:17:39.818981Z"
    }
   },
   "id": "f61e6f471b4be16d"
  },
  {
   "cell_type": "code",
   "execution_count": 42,
   "outputs": [],
   "source": [
    "mnist_model_v2 = FashionMnistModel_V2(input_layer=28*28, hidden_layers=32, output_layer=len(class_names)).to(device)"
   ],
   "metadata": {
    "collapsed": false,
    "ExecuteTime": {
     "end_time": "2023-12-26T14:18:45.366190500Z",
     "start_time": "2023-12-26T14:18:45.344190700Z"
    }
   },
   "id": "c8b8a493baff04c4"
  },
  {
   "cell_type": "code",
   "execution_count": 43,
   "outputs": [
    {
     "data": {
      "text/plain": "  0%|          | 0/3 [00:00<?, ?it/s]",
      "application/vnd.jupyter.widget-view+json": {
       "version_major": 2,
       "version_minor": 0,
       "model_id": "0f4bb7f1c27e4c11a00836d7ca32c4fd"
      }
     },
     "metadata": {},
     "output_type": "display_data"
    },
    {
     "name": "stdout",
     "output_type": "stream",
     "text": [
      "Training loss is 2.3358, Training accuracy is 0.0033\n",
      "Testing loss is 2.336124897003174, Testing accuracy is 8.576277955271566\n",
      "Training loss is 2.3358, Training accuracy is 0.0067\n",
      "Testing loss is 2.336124897003174, Testing accuracy is 8.576277955271566\n",
      "Training loss is 2.3358, Training accuracy is 0.0067\n",
      "Testing loss is 2.336124897003174, Testing accuracy is 8.576277955271566\n",
      "The model training takes 48.2179 seconds.\n"
     ]
    }
   ],
   "source": [
    "from timeit import default_timer as timer\n",
    "\n",
    "epochs = 3\n",
    "\n",
    "INITIAL_TIME = timer()\n",
    "\n",
    "for epoch in tqdm(range(epochs)):\n",
    "    \n",
    "    train_step(data_loader=train_dataloader,\n",
    "               model=mnist_model_v2,\n",
    "               loss_fn=loss_fn,\n",
    "               accuracy_fn=accuracy_fn,\n",
    "               device=device)\n",
    "    \n",
    "    test_step(data_loader=test_dataloader,\n",
    "               model=mnist_model_v2,\n",
    "               loss_fn=loss_fn,\n",
    "               accuracy_fn=accuracy_fn,\n",
    "               device=device)\n",
    "    \n",
    "ENDING_TIME = timer()\n",
    "TOTAL_TIME = ENDING_TIME - INITIAL_TIME\n",
    "print(f\"The model training takes {TOTAL_TIME:.4f} seconds.\")"
   ],
   "metadata": {
    "collapsed": false,
    "ExecuteTime": {
     "end_time": "2023-12-26T14:19:34.017956600Z",
     "start_time": "2023-12-26T14:18:45.792068Z"
    }
   },
   "id": "ae7c448011be0e8"
  },
  {
   "cell_type": "markdown",
   "source": [
    "# Model Comparison"
   ],
   "metadata": {
    "collapsed": false
   },
   "id": "d648b566456afca6"
  },
  {
   "cell_type": "code",
   "execution_count": 46,
   "outputs": [],
   "source": [
    "def eval_model(data_loader: DataLoader,\n",
    "               model: nn.Module,\n",
    "               loss_fn: nn.Module,\n",
    "               accuracy_fn,\n",
    "               device):\n",
    "    test_loss, test_accuracy = 0, 0\n",
    "    model.eval()\n",
    "    with torch.inference_mode():\n",
    "        for batch_test, (X_test, y_test) in enumerate(data_loader):\n",
    "            X_test, y_test = X_test.to(device), y_test.to(device)\n",
    "            y_pred_test = model(X_test)\n",
    "            test_loss += loss_fn(y_pred_test, y_test)\n",
    "            test_accuracy += accuracy_fn(y_true=y_test, y_pred=y_pred_test.argmax(1))\n",
    "    \n",
    "        test_loss /= len(test_dataloader)\n",
    "        test_accuracy /= len(test_dataloader)\n",
    "    \n",
    "    return {\n",
    "        \"model_name\": model.__class__.__name__,\n",
    "        \"model_loss\": test_loss.item(),\n",
    "        \"model_acc\": test_accuracy\n",
    "    }"
   ],
   "metadata": {
    "collapsed": false,
    "ExecuteTime": {
     "end_time": "2023-12-26T14:26:09.976541800Z",
     "start_time": "2023-12-26T14:26:09.932565400Z"
    }
   },
   "id": "b4e9ff2bdda47000"
  },
  {
   "cell_type": "code",
   "execution_count": 61,
   "outputs": [],
   "source": [
    "model_v1_results= eval_model(data_loader=test_dataloader,\n",
    "               model=mnist_model,\n",
    "               loss_fn=loss_fn,\n",
    "               accuracy_fn=accuracy_fn,\n",
    "               device=device)"
   ],
   "metadata": {
    "collapsed": false,
    "ExecuteTime": {
     "end_time": "2023-12-26T14:29:42.701254100Z",
     "start_time": "2023-12-26T14:29:40.691177200Z"
    }
   },
   "id": "57ce3cd1de59b867"
  },
  {
   "cell_type": "code",
   "execution_count": 62,
   "outputs": [],
   "source": [
    "model_v2_results = eval_model(data_loader=test_dataloader,\n",
    "               model=mnist_model_v2,\n",
    "               loss_fn=loss_fn,\n",
    "               accuracy_fn=accuracy_fn,\n",
    "               device=device)"
   ],
   "metadata": {
    "collapsed": false,
    "ExecuteTime": {
     "end_time": "2023-12-26T14:29:45.166205600Z",
     "start_time": "2023-12-26T14:29:43.237166700Z"
    }
   },
   "id": "f4f1367afd540d06"
  },
  {
   "cell_type": "code",
   "execution_count": 63,
   "outputs": [
    {
     "data": {
      "text/plain": "{'model_name': 'FashionMnistModel_V1',\n 'model_loss': 1.7553880214691162,\n 'model_acc': 70.59704472843451}"
     },
     "execution_count": 63,
     "metadata": {},
     "output_type": "execute_result"
    }
   ],
   "source": [
    "model_v1_results"
   ],
   "metadata": {
    "collapsed": false,
    "ExecuteTime": {
     "end_time": "2023-12-26T14:29:48.514156400Z",
     "start_time": "2023-12-26T14:29:48.493153500Z"
    }
   },
   "id": "f8d2cf2565052adc"
  },
  {
   "cell_type": "code",
   "execution_count": 64,
   "outputs": [
    {
     "data": {
      "text/plain": "{'model_name': 'FashionMnistModel_V2',\n 'model_loss': 2.336124897003174,\n 'model_acc': 8.576277955271566}"
     },
     "execution_count": 64,
     "metadata": {},
     "output_type": "execute_result"
    }
   ],
   "source": [
    "model_v2_results"
   ],
   "metadata": {
    "collapsed": false,
    "ExecuteTime": {
     "end_time": "2023-12-26T14:29:48.676155800Z",
     "start_time": "2023-12-26T14:29:48.654155500Z"
    }
   },
   "id": "1c7ba7697b228a49"
  },
  {
   "cell_type": "code",
   "execution_count": 65,
   "outputs": [
    {
     "data": {
      "text/plain": "             model_name  model_loss  model_acc\n0  FashionMnistModel_V1    1.755388  70.597045\n1  FashionMnistModel_V2    2.336125   8.576278",
      "text/html": "<div>\n<style scoped>\n    .dataframe tbody tr th:only-of-type {\n        vertical-align: middle;\n    }\n\n    .dataframe tbody tr th {\n        vertical-align: top;\n    }\n\n    .dataframe thead th {\n        text-align: right;\n    }\n</style>\n<table border=\"1\" class=\"dataframe\">\n  <thead>\n    <tr style=\"text-align: right;\">\n      <th></th>\n      <th>model_name</th>\n      <th>model_loss</th>\n      <th>model_acc</th>\n    </tr>\n  </thead>\n  <tbody>\n    <tr>\n      <th>0</th>\n      <td>FashionMnistModel_V1</td>\n      <td>1.755388</td>\n      <td>70.597045</td>\n    </tr>\n    <tr>\n      <th>1</th>\n      <td>FashionMnistModel_V2</td>\n      <td>2.336125</td>\n      <td>8.576278</td>\n    </tr>\n  </tbody>\n</table>\n</div>"
     },
     "execution_count": 65,
     "metadata": {},
     "output_type": "execute_result"
    }
   ],
   "source": [
    "results_comparisons = pd.DataFrame([model_v1_results, model_v2_results])\n",
    "results_comparisons"
   ],
   "metadata": {
    "collapsed": false,
    "ExecuteTime": {
     "end_time": "2023-12-26T14:29:48.851153900Z",
     "start_time": "2023-12-26T14:29:48.818154900Z"
    }
   },
   "id": "bdc05f43dde1ace6"
  },
  {
   "cell_type": "code",
   "execution_count": 69,
   "outputs": [
    {
     "data": {
      "text/plain": "<Figure size 640x480 with 1 Axes>",
      "image/png": "[encoded data removed]"
     },
     "metadata": {},
     "output_type": "display_data"
    }
   ],
   "source": [
    "results_comparisons.set_index(\"model_name\")['model_acc'].plot(kind='barh')\n",
    "plt.xlabel(\"Accuracy\")\n",
    "plt.ylabel(\"Model Name\")\n",
    "plt.show()"
   ],
   "metadata": {
    "collapsed": false,
    "ExecuteTime": {
     "end_time": "2023-12-26T14:31:06.264024700Z",
     "start_time": "2023-12-26T14:31:06.032086400Z"
    }
   },
   "id": "edae60228b4a292a"
  },
  {
   "cell_type": "code",
   "execution_count": 81,
   "outputs": [],
   "source": [
    "def make_predictions(data: list,\n",
    "               model: nn.Module,\n",
    "               device):\n",
    "    pred_probs = []\n",
    "    model.eval()\n",
    "    with torch.inference_mode():\n",
    "        for sample in data:\n",
    "            sample = torch.unsqueeze(sample, dim=0)\n",
    "            sample = sample.to(device)\n",
    "            pred_logit = model(sample)\n",
    "            pred_prob = torch.softmax(pred_logit.squeeze(), dim=0)\n",
    "            pred_probs.append(pred_prob)\n",
    "    return torch.stack(pred_probs)"
   ],
   "metadata": {
    "collapsed": false,
    "ExecuteTime": {
     "end_time": "2023-12-26T14:36:56.991282Z",
     "start_time": "2023-12-26T14:36:56.912295700Z"
    }
   },
   "id": "c118b4adb526c7d3"
  },
  {
   "cell_type": "code",
   "execution_count": 82,
   "outputs": [],
   "source": [
    "import random\n",
    "random.seed(42)\n",
    "test_samples = []\n",
    "test_labels = []\n",
    "for sample, label in random.sample(list(mnist_test), k=9):\n",
    "    test_samples.append(sample)\n",
    "    test_labels.append(label)"
   ],
   "metadata": {
    "collapsed": false,
    "ExecuteTime": {
     "end_time": "2023-12-26T14:36:58.923756500Z",
     "start_time": "2023-12-26T14:36:57.459753500Z"
    }
   },
   "id": "54370f2f1f06ce93"
  },
  {
   "cell_type": "code",
   "execution_count": 83,
   "outputs": [],
   "source": [
    "pred_probs= make_predictions(model=mnist_model, \n",
    "                             data=test_samples,\n",
    "                             device=device)"
   ],
   "metadata": {
    "collapsed": false,
    "ExecuteTime": {
     "end_time": "2023-12-26T14:36:58.967806500Z",
     "start_time": "2023-12-26T14:36:58.922755700Z"
    }
   },
   "id": "67900c3ff6aee160"
  },
  {
   "cell_type": "code",
   "execution_count": 88,
   "outputs": [
    {
     "data": {
      "text/plain": "tensor([[0.0853, 0.0853, 0.0853, 0.0853, 0.0853, 0.0853, 0.0853, 0.0853, 0.0853,\n         0.2320],\n        [0.0853, 0.2319, 0.0853, 0.0854, 0.0853, 0.0853, 0.0853, 0.0853, 0.0853,\n         0.0853],\n        [0.0854, 0.0854, 0.0854, 0.0854, 0.0854, 0.0854, 0.0854, 0.2313, 0.0854,\n         0.0857],\n        [0.0853, 0.0853, 0.0853, 0.0853, 0.2320, 0.0853, 0.0853, 0.0853, 0.0853,\n         0.0853],\n        [0.0854, 0.0853, 0.0853, 0.2318, 0.0853, 0.0853, 0.0853, 0.0853, 0.0853,\n         0.0853],\n        [0.2320, 0.0853, 0.0853, 0.0853, 0.0853, 0.0853, 0.0853, 0.0853, 0.0853,\n         0.0853],\n        [0.0853, 0.0853, 0.0853, 0.0853, 0.2320, 0.0853, 0.0853, 0.0853, 0.0853,\n         0.0853],\n        [0.0853, 0.0853, 0.0853, 0.0853, 0.0853, 0.0853, 0.0853, 0.2319, 0.0854,\n         0.0853],\n        [0.0853, 0.2320, 0.0853, 0.0853, 0.0853, 0.0853, 0.0853, 0.0853, 0.0853,\n         0.0853]], device='cuda:0')"
     },
     "execution_count": 88,
     "metadata": {},
     "output_type": "execute_result"
    }
   ],
   "source": [
    "pred_probs"
   ],
   "metadata": {
    "collapsed": false,
    "ExecuteTime": {
     "end_time": "2023-12-26T14:37:29.695570500Z",
     "start_time": "2023-12-26T14:37:29.637583400Z"
    }
   },
   "id": "67eef421f661cab2"
  },
  {
   "cell_type": "code",
   "execution_count": 90,
   "outputs": [
    {
     "data": {
      "text/plain": "tensor([9, 1, 7, 4, 3, 0, 4, 7, 1], device='cuda:0')"
     },
     "execution_count": 90,
     "metadata": {},
     "output_type": "execute_result"
    }
   ],
   "source": [
    "pred_classes = pred_probs.argmax(dim=1)\n",
    "pred_classes"
   ],
   "metadata": {
    "collapsed": false,
    "ExecuteTime": {
     "end_time": "2023-12-26T14:37:58.901469600Z",
     "start_time": "2023-12-26T14:37:58.848465900Z"
    }
   },
   "id": "9a0f95b11cb6b5aa"
  },
  {
   "cell_type": "code",
   "execution_count": 91,
   "outputs": [
    {
     "data": {
      "text/plain": "([5, 1, 7, 4, 3, 0, 4, 7, 1],\n tensor([9, 1, 7, 4, 3, 0, 4, 7, 1], device='cuda:0'))"
     },
     "execution_count": 91,
     "metadata": {},
     "output_type": "execute_result"
    }
   ],
   "source": [
    "test_labels, pred_classes"
   ],
   "metadata": {
    "collapsed": false,
    "ExecuteTime": {
     "end_time": "2023-12-26T14:38:21.564180Z",
     "start_time": "2023-12-26T14:38:21.425133400Z"
    }
   },
   "id": "e4e64055e9a3d93b"
  },
  {
   "cell_type": "code",
   "execution_count": 92,
   "outputs": [
    {
     "data": {
      "text/plain": "<Figure size 900x900 with 9 Axes>",
      "image/png": "[encoded data removed]"
     },
     "metadata": {},
     "output_type": "display_data"
    }
   ],
   "source": [
    "plt.figure(figsize=(9, 9))\n",
    "nrows = 3\n",
    "ncols = 3\n",
    "for i, sample in enumerate(test_samples):\n",
    "  plt.subplot(nrows, ncols, i+1)\n",
    "  plt.imshow(sample.squeeze(), cmap=\"gray\")\n",
    "  pred_label = class_names[pred_classes[i]]\n",
    "  truth_label = class_names[test_labels[i]] \n",
    "  title_text = f\"Pred: {pred_label} | Truth: {truth_label}\"\n",
    "  if pred_label == truth_label:\n",
    "      plt.title(title_text, fontsize=10, c=\"g\") # green text if correct\n",
    "  else:\n",
    "      plt.title(title_text, fontsize=10, c=\"r\") # red text if wrong"
   ],
   "metadata": {
    "collapsed": false,
    "ExecuteTime": {
     "end_time": "2023-12-26T14:39:07.713147500Z",
     "start_time": "2023-12-26T14:39:06.440161700Z"
    }
   },
   "id": "67e30350b2829749"
  },
  {
   "cell_type": "code",
   "execution_count": 94,
   "outputs": [
    {
     "data": {
      "text/plain": "Making predictions:   0%|          | 0/313 [00:00<?, ?it/s]",
      "application/vnd.jupyter.widget-view+json": {
       "version_major": 2,
       "version_minor": 0,
       "model_id": "c80f46ddd041421196e6a597aa4a1622"
      }
     },
     "metadata": {},
     "output_type": "display_data"
    }
   ],
   "source": [
    "y_preds = []\n",
    "mnist_model.eval()\n",
    "with torch.inference_mode():\n",
    "  for X, y in tqdm(test_dataloader, desc=\"Making predictions\"):\n",
    "    X, y = X.to(device), y.to(device)\n",
    "    y_logit = mnist_model(X)\n",
    "    y_pred = torch.softmax(y_logit, dim=1).argmax(dim=1) \n",
    "    y_preds.append(y_pred.cpu())\n",
    "y_pred_tensor = torch.cat(y_preds)"
   ],
   "metadata": {
    "collapsed": false,
    "ExecuteTime": {
     "end_time": "2023-12-26T14:42:21.147066300Z",
     "start_time": "2023-12-26T14:42:18.997839600Z"
    }
   },
   "id": "2bfb5e7b93ea57d"
  },
  {
   "cell_type": "code",
   "execution_count": 96,
   "outputs": [
    {
     "data": {
      "text/plain": "<Figure size 1000x700 with 1 Axes>",
      "image/png": "[encoded data removed]"
     },
     "metadata": {},
     "output_type": "display_data"
    }
   ],
   "source": [
    "from torchmetrics import ConfusionMatrix\n",
    "from mlxtend.plotting import plot_confusion_matrix\n",
    "\n",
    "# 2. Setup confusion matrix instance and compare predictions to targets\n",
    "confmat = ConfusionMatrix(num_classes=len(class_names), task='multiclass')\n",
    "confmat_tensor = confmat(preds=y_pred_tensor,\n",
    "                         target=mnist_test.targets)\n",
    "\n",
    "# 3. Plot the confusion matrix\n",
    "fig, ax = plot_confusion_matrix(\n",
    "    conf_mat=confmat_tensor.numpy(), # matplotlib likes working with NumPy \n",
    "    class_names=class_names, # turn the row and column labels into class names\n",
    "    figsize=(10, 7)\n",
    ");"
   ],
   "metadata": {
    "collapsed": false,
    "ExecuteTime": {
     "end_time": "2023-12-26T14:42:29.312740800Z",
     "start_time": "2023-12-26T14:42:28.840009200Z"
    }
   },
   "id": "a855bb7497f4d050"
  },
  {
   "cell_type": "code",
   "execution_count": 97,
   "outputs": [
    {
     "name": "stdout",
     "output_type": "stream",
     "text": [
      "Saving model to: models\\PyTorch_CVV.pth\n"
     ]
    }
   ],
   "source": [
    "from pathlib import Path\n",
    "\n",
    "MODEL_PATH = Path(\"models\")\n",
    "MODEL_PATH.mkdir(parents=True, \n",
    "                 exist_ok=True)\n",
    "\n",
    "MODEL_NAME = \"PyTorch_CVV.pth\"\n",
    "MODEL_SAVE_PATH = MODEL_PATH / MODEL_NAME\n",
    "\n",
    "# Save the model state dict\n",
    "print(f\"Saving model to: {MODEL_SAVE_PATH}\")\n",
    "torch.save(obj=mnist_model.state_dict(), # only saving the state_dict() only saves the learned parameters\n",
    "           f=MODEL_SAVE_PATH)"
   ],
   "metadata": {
    "collapsed": false,
    "ExecuteTime": {
     "end_time": "2023-12-26T14:43:44.450302800Z",
     "start_time": "2023-12-26T14:43:44.330852400Z"
    }
   },
   "id": "9185d5f179510073"
  },
  {
   "cell_type": "markdown",
   "source": [
    "# Loading Model"
   ],
   "metadata": {
    "collapsed": false
   },
   "id": "334bacc1d8b6d75a"
  },
  {
   "cell_type": "code",
   "execution_count": 116,
   "outputs": [],
   "source": [
    "loaded_model = FashionMnistModel_V1(input_shape=1, \n",
    "                                    hidden_shape=32, # try changing this to 128 and seeing what happens \n",
    "                                    output_shape=10)"
   ],
   "metadata": {
    "collapsed": false,
    "ExecuteTime": {
     "end_time": "2023-12-26T14:47:05.809569700Z",
     "start_time": "2023-12-26T14:47:05.701589300Z"
    }
   },
   "id": "bd6fcaeaf773b292"
  },
  {
   "cell_type": "code",
   "execution_count": 117,
   "outputs": [
    {
     "data": {
      "text/plain": "<All keys matched successfully>"
     },
     "execution_count": 117,
     "metadata": {},
     "output_type": "execute_result"
    }
   ],
   "source": [
    "loaded_model.load_state_dict(torch.load(f=MODEL_SAVE_PATH))"
   ],
   "metadata": {
    "collapsed": false,
    "ExecuteTime": {
     "end_time": "2023-12-26T14:47:06.036740700Z",
     "start_time": "2023-12-26T14:47:06.006744100Z"
    }
   },
   "id": "3bc3e2f8ad8bf230"
  },
  {
   "cell_type": "code",
   "execution_count": 118,
   "outputs": [],
   "source": [
    "loaded_model = loaded_model.to(device=device)"
   ],
   "metadata": {
    "collapsed": false,
    "ExecuteTime": {
     "end_time": "2023-12-26T14:47:06.268338Z",
     "start_time": "2023-12-26T14:47:06.225732800Z"
    }
   },
   "id": "cc183943a3fc92fc"
  },
  {
   "cell_type": "code",
   "execution_count": 119,
   "outputs": [
    {
     "data": {
      "text/plain": "{'model_name': 'FashionMnistModel_V1',\n 'model_loss': 1.7553880214691162,\n 'model_acc': 70.59704472843451}"
     },
     "execution_count": 119,
     "metadata": {},
     "output_type": "execute_result"
    }
   ],
   "source": [
    "# Evaluate loaded model\n",
    "torch.manual_seed(42)\n",
    "\n",
    "loaded_model_results = eval_model(\n",
    "    model=loaded_model,\n",
    "    data_loader=test_dataloader,\n",
    "    loss_fn=loss_fn, \n",
    "    accuracy_fn=accuracy_fn,\n",
    "    device=device)\n",
    "\n",
    "loaded_model_results"
   ],
   "metadata": {
    "collapsed": false,
    "ExecuteTime": {
     "end_time": "2023-12-26T14:47:09.796698300Z",
     "start_time": "2023-12-26T14:47:06.740927100Z"
    }
   },
   "id": "ab4e741cf68a6fd"
  },
  {
   "cell_type": "code",
   "execution_count": 120,
   "outputs": [
    {
     "data": {
      "text/plain": "{'model_name': 'FashionMnistModel_V1',\n 'model_loss': 1.7553880214691162,\n 'model_acc': 70.59704472843451}"
     },
     "execution_count": 120,
     "metadata": {},
     "output_type": "execute_result"
    }
   ],
   "source": [
    "model_v1_results"
   ],
   "metadata": {
    "collapsed": false,
    "ExecuteTime": {
     "end_time": "2023-12-26T14:47:09.851797800Z",
     "start_time": "2023-12-26T14:47:09.793701400Z"
    }
   },
   "id": "1a2d2b8c6b847bf3"
  },
  {
   "cell_type": "code",
   "execution_count": 121,
   "outputs": [
    {
     "data": {
      "text/plain": "tensor(True)"
     },
     "execution_count": 121,
     "metadata": {},
     "output_type": "execute_result"
    }
   ],
   "source": [
    "torch.isclose(torch.tensor(model_v1_results[\"model_loss\"]), \n",
    "              torch.tensor(loaded_model_results[\"model_loss\"]),\n",
    "              atol=1e-08, # absolute tolerance\n",
    "              rtol=0.0001) # relative tolerance"
   ],
   "metadata": {
    "collapsed": false,
    "ExecuteTime": {
     "end_time": "2023-12-26T14:47:09.910892400Z",
     "start_time": "2023-12-26T14:47:09.809700400Z"
    }
   },
   "id": "4595fee97f585f5b"
  }
 ],
 "metadata": {
  "kernelspec": {
   "display_name": "Python 3",
   "language": "python",
   "name": "python3"
  },
  "language_info": {
   "codemirror_mode": {
    "name": "ipython",
    "version": 2
   },
   "file_extension": ".py",
   "mimetype": "text/x-python",
   "name": "python",
   "nbconvert_exporter": "python",
   "pygments_lexer": "ipython2",
   "version": "2.7.6"
  }
 },
 "nbformat": 4,
 "nbformat_minor": 5
}
